{
 "cells": [
  {
   "cell_type": "code",
   "execution_count": 23,
   "id": "3f04a173",
   "metadata": {},
   "outputs": [],
   "source": [
    "import pandas as pd"
   ]
  },
  {
   "cell_type": "code",
   "execution_count": 24,
   "id": "9d695641-6b8d-46c9-82e2-c81ea4627664",
   "metadata": {},
   "outputs": [],
   "source": [
    "from sklearn.metrics.pairwise import cosine_similarity"
   ]
  },
  {
   "cell_type": "code",
   "execution_count": 25,
   "id": "ef2ae54d-cbd7-4229-a554-e63b03852d70",
   "metadata": {},
   "outputs": [],
   "source": [
    "from sklearn.feature_extraction.text import CountVectorizer"
   ]
  },
  {
   "cell_type": "code",
   "execution_count": 26,
   "id": "90d1ce35-96ac-4e59-bda4-3142f00ebf40",
   "metadata": {},
   "outputs": [],
   "source": [
    "import pickle"
   ]
  },
  {
   "cell_type": "code",
   "execution_count": 27,
   "id": "dead6fc2",
   "metadata": {},
   "outputs": [],
   "source": [
    "animes=pd.read_csv('anime.csv')"
   ]
  },
  {
   "cell_type": "code",
   "execution_count": 28,
   "id": "5b1a49bf",
   "metadata": {},
   "outputs": [
    {
     "data": {
      "text/html": [
       "<div>\n",
       "<style scoped>\n",
       "    .dataframe tbody tr th:only-of-type {\n",
       "        vertical-align: middle;\n",
       "    }\n",
       "\n",
       "    .dataframe tbody tr th {\n",
       "        vertical-align: top;\n",
       "    }\n",
       "\n",
       "    .dataframe thead th {\n",
       "        text-align: right;\n",
       "    }\n",
       "</style>\n",
       "<table border=\"1\" class=\"dataframe\">\n",
       "  <thead>\n",
       "    <tr style=\"text-align: right;\">\n",
       "      <th></th>\n",
       "      <th>uid</th>\n",
       "      <th>title</th>\n",
       "      <th>synopsis</th>\n",
       "      <th>genre</th>\n",
       "      <th>aired</th>\n",
       "      <th>episodes</th>\n",
       "      <th>members</th>\n",
       "      <th>popularity</th>\n",
       "      <th>ranked</th>\n",
       "      <th>score</th>\n",
       "      <th>img_url</th>\n",
       "      <th>link</th>\n",
       "    </tr>\n",
       "  </thead>\n",
       "  <tbody>\n",
       "    <tr>\n",
       "      <th>0</th>\n",
       "      <td>28891</td>\n",
       "      <td>Haikyuu!! Second Season</td>\n",
       "      <td>Following their participation at the Inter-Hig...</td>\n",
       "      <td>['Comedy', 'Sports', 'Drama', 'School', 'Shoun...</td>\n",
       "      <td>Oct 4, 2015 to Mar 27, 2016</td>\n",
       "      <td>25.0</td>\n",
       "      <td>489888</td>\n",
       "      <td>141</td>\n",
       "      <td>25.0</td>\n",
       "      <td>8.82</td>\n",
       "      <td>https://cdn.myanimelist.net/images/anime/9/766...</td>\n",
       "      <td>https://myanimelist.net/anime/28891/Haikyuu_Se...</td>\n",
       "    </tr>\n",
       "    <tr>\n",
       "      <th>1</th>\n",
       "      <td>23273</td>\n",
       "      <td>Shigatsu wa Kimi no Uso</td>\n",
       "      <td>Music accompanies the path of the human metron...</td>\n",
       "      <td>['Drama', 'Music', 'Romance', 'School', 'Shoun...</td>\n",
       "      <td>Oct 10, 2014 to Mar 20, 2015</td>\n",
       "      <td>22.0</td>\n",
       "      <td>995473</td>\n",
       "      <td>28</td>\n",
       "      <td>24.0</td>\n",
       "      <td>8.83</td>\n",
       "      <td>https://cdn.myanimelist.net/images/anime/3/671...</td>\n",
       "      <td>https://myanimelist.net/anime/23273/Shigatsu_w...</td>\n",
       "    </tr>\n",
       "    <tr>\n",
       "      <th>2</th>\n",
       "      <td>34599</td>\n",
       "      <td>Made in Abyss</td>\n",
       "      <td>The Abyss—a gaping chasm stretching down into ...</td>\n",
       "      <td>['Sci-Fi', 'Adventure', 'Mystery', 'Drama', 'F...</td>\n",
       "      <td>Jul 7, 2017 to Sep 29, 2017</td>\n",
       "      <td>13.0</td>\n",
       "      <td>581663</td>\n",
       "      <td>98</td>\n",
       "      <td>23.0</td>\n",
       "      <td>8.83</td>\n",
       "      <td>https://cdn.myanimelist.net/images/anime/6/867...</td>\n",
       "      <td>https://myanimelist.net/anime/34599/Made_in_Abyss</td>\n",
       "    </tr>\n",
       "  </tbody>\n",
       "</table>\n",
       "</div>"
      ],
      "text/plain": [
       "     uid                    title  \\\n",
       "0  28891  Haikyuu!! Second Season   \n",
       "1  23273  Shigatsu wa Kimi no Uso   \n",
       "2  34599            Made in Abyss   \n",
       "\n",
       "                                            synopsis  \\\n",
       "0  Following their participation at the Inter-Hig...   \n",
       "1  Music accompanies the path of the human metron...   \n",
       "2  The Abyss—a gaping chasm stretching down into ...   \n",
       "\n",
       "                                               genre  \\\n",
       "0  ['Comedy', 'Sports', 'Drama', 'School', 'Shoun...   \n",
       "1  ['Drama', 'Music', 'Romance', 'School', 'Shoun...   \n",
       "2  ['Sci-Fi', 'Adventure', 'Mystery', 'Drama', 'F...   \n",
       "\n",
       "                          aired  episodes  members  popularity  ranked  score  \\\n",
       "0   Oct 4, 2015 to Mar 27, 2016      25.0   489888         141    25.0   8.82   \n",
       "1  Oct 10, 2014 to Mar 20, 2015      22.0   995473          28    24.0   8.83   \n",
       "2   Jul 7, 2017 to Sep 29, 2017      13.0   581663          98    23.0   8.83   \n",
       "\n",
       "                                             img_url  \\\n",
       "0  https://cdn.myanimelist.net/images/anime/9/766...   \n",
       "1  https://cdn.myanimelist.net/images/anime/3/671...   \n",
       "2  https://cdn.myanimelist.net/images/anime/6/867...   \n",
       "\n",
       "                                                link  \n",
       "0  https://myanimelist.net/anime/28891/Haikyuu_Se...  \n",
       "1  https://myanimelist.net/anime/23273/Shigatsu_w...  \n",
       "2  https://myanimelist.net/anime/34599/Made_in_Abyss  "
      ]
     },
     "execution_count": 28,
     "metadata": {},
     "output_type": "execute_result"
    }
   ],
   "source": [
    "animes.head(3)"
   ]
  },
  {
   "cell_type": "markdown",
   "id": "8d08a5cf",
   "metadata": {},
   "source": [
    "Feature Selection Part"
   ]
  },
  {
   "cell_type": "code",
   "execution_count": 29,
   "id": "f4c03a00",
   "metadata": {},
   "outputs": [
    {
     "data": {
      "text/plain": [
       "Index(['uid', 'title', 'synopsis', 'genre', 'aired', 'episodes', 'members',\n",
       "       'popularity', 'ranked', 'score', 'img_url', 'link'],\n",
       "      dtype='object')"
      ]
     },
     "execution_count": 29,
     "metadata": {},
     "output_type": "execute_result"
    }
   ],
   "source": [
    "animes.columns"
   ]
  },
  {
   "cell_type": "code",
   "execution_count": 30,
   "id": "0a54c777",
   "metadata": {},
   "outputs": [],
   "source": [
    "animes=animes[['uid', 'title', 'synopsis', 'genre', 'img_url', 'link']]"
   ]
  },
  {
   "cell_type": "code",
   "execution_count": 31,
   "id": "e6677b81",
   "metadata": {},
   "outputs": [],
   "source": [
    "animes['tags'] = animes['synopsis'] + animes['genre']"
   ]
  },
  {
   "cell_type": "code",
   "execution_count": 32,
   "id": "30e6fe24",
   "metadata": {},
   "outputs": [],
   "source": [
    "scoring_data  = animes.drop(columns=['synopsis', 'genre'])"
   ]
  },
  {
   "cell_type": "code",
   "execution_count": 33,
   "id": "1ef07ab5",
   "metadata": {},
   "outputs": [],
   "source": [
    "cv=CountVectorizer(max_features=19311, stop_words='english')"
   ]
  },
  {
   "cell_type": "code",
   "execution_count": 34,
   "id": "47d712fd",
   "metadata": {},
   "outputs": [],
   "source": [
    "vector=cv.fit_transform(scoring_data['tags'].values.astype('U')).toarray()"
   ]
  },
  {
   "cell_type": "code",
   "execution_count": 35,
   "id": "626e5066",
   "metadata": {},
   "outputs": [
    {
     "data": {
      "text/plain": [
       "(16368, 19311)"
      ]
     },
     "execution_count": 35,
     "metadata": {},
     "output_type": "execute_result"
    }
   ],
   "source": [
    "vector.shape"
   ]
  },
  {
   "cell_type": "code",
   "execution_count": 36,
   "id": "0851120b",
   "metadata": {},
   "outputs": [],
   "source": [
    "similarity=cosine_similarity(vector)"
   ]
  },
  {
   "cell_type": "code",
   "execution_count": 37,
   "id": "70d0277a",
   "metadata": {},
   "outputs": [
    {
     "data": {
      "text/plain": [
       "array([[1.        , 0.09805807, 0.06306254, ..., 0.06663788, 0.0304088 ,\n",
       "        0.07564094],\n",
       "       [0.09805807, 1.        , 0.04251356, ..., 0.0838579 , 0.04100014,\n",
       "        0.0634583 ],\n",
       "       [0.06306254, 0.04251356, 1.        , ..., 0.07415404, 0.03625569,\n",
       "        0.06413148],\n",
       "       ...,\n",
       "       [0.06663788, 0.0838579 , 0.07415404, ..., 1.        , 0.05108161,\n",
       "        0.09035655],\n",
       "       [0.0304088 , 0.04100014, 0.03625569, ..., 0.05108161, 1.        ,\n",
       "        0.02319318],\n",
       "       [0.07564094, 0.0634583 , 0.06413148, ..., 0.09035655, 0.02319318,\n",
       "        1.        ]])"
      ]
     },
     "execution_count": 37,
     "metadata": {},
     "output_type": "execute_result"
    }
   ],
   "source": [
    "similarity"
   ]
  },
  {
   "cell_type": "code",
   "execution_count": 38,
   "id": "33767086",
   "metadata": {},
   "outputs": [
    {
     "data": {
      "text/plain": [
       "707"
      ]
     },
     "execution_count": 38,
     "metadata": {},
     "output_type": "execute_result"
    }
   ],
   "source": [
    "scoring_data[scoring_data['title']==\"One Piece\"].index[0]"
   ]
  },
  {
   "cell_type": "code",
   "execution_count": 39,
   "id": "18f8e048",
   "metadata": {},
   "outputs": [
    {
     "name": "stdout",
     "output_type": "stream",
     "text": [
      "Made in Abyss\n",
      "https://cdn.myanimelist.net/images/anime/6/86733.jpg\n",
      "https://myanimelist.net/anime/34599/Made_in_Abyss\n",
      "Pandora Hearts\n",
      "https://cdn.myanimelist.net/images/anime/4/75535.jpg\n",
      "https://myanimelist.net/anime/5530/Pandora_Hearts\n",
      "Tsumiki no Ie\n",
      "https://cdn.myanimelist.net/images/anime/13/13357.jpg\n",
      "https://myanimelist.net/anime/5365/Tsumiki_no_Ie\n",
      "No.6\n",
      "https://cdn.myanimelist.net/images/anime/1474/90768.jpg\n",
      "https://myanimelist.net/anime/10161/No6\n",
      "Made in Abyss Movie 1: Tabidachi no Yoake\n",
      "https://cdn.myanimelist.net/images/anime/1173/95167.jpg\n",
      "https://myanimelist.net/anime/37514/Made_in_Abyss_Movie_1__Tabidachi_no_Yoake\n"
     ]
    }
   ],
   "source": [
    "distance = sorted(list(enumerate(similarity[2])), reverse=True, key=lambda vector:vector[1])\n",
    "for i in distance[0:5]:\n",
    "    print(scoring_data.iloc[i[0]].title)\n",
    "    print(scoring_data.iloc[i[0]].img_url)\n",
    "    print(scoring_data.iloc[i[0]].link)\n",
    "    \n",
    "\n",
    "    "
   ]
  },
  {
   "cell_type": "code",
   "execution_count": 40,
   "id": "abc0f54e",
   "metadata": {},
   "outputs": [],
   "source": [
    "def recommend(animes):\n",
    "    index=scoring_data[scoring_data['title']==animes].index[0]\n",
    "    distance = sorted(list(enumerate(similarity[index])), reverse=True, key=lambda vector:vector[1])\n",
    "    for i in distance[0:5]:\n",
    "        print(scoring_data.iloc[i[0]].title)"
   ]
  },
  {
   "cell_type": "code",
   "execution_count": 41,
   "id": "45f26d8e",
   "metadata": {},
   "outputs": [
    {
     "name": "stdout",
     "output_type": "stream",
     "text": [
      "One Piece\n",
      "One Piece: Episode of East Blue - Luffy to 4-nin no Nakama no Daibouken\n",
      "One Piece Film: Strong World Episode 0\n",
      "One Piece Film: Strong World\n",
      "One Piece: Romance Dawn Story\n"
     ]
    }
   ],
   "source": [
    "recommend(\"One Piece\")"
   ]
  },
  {
   "cell_type": "code",
   "execution_count": 42,
   "id": "2662fb93",
   "metadata": {},
   "outputs": [],
   "source": [
    "pickle.dump(scoring_data, open('animes_list.pkl', 'wb'))"
   ]
  },
  {
   "cell_type": "code",
   "execution_count": 43,
   "id": "73e32c4e",
   "metadata": {},
   "outputs": [],
   "source": [
    "pickle.dump(similarity, open('similarity.pkl', 'wb'))"
   ]
  },
  {
   "cell_type": "code",
   "execution_count": 44,
   "id": "e96d2c35",
   "metadata": {},
   "outputs": [
    {
     "data": {
      "text/html": [
       "<div>\n",
       "<style scoped>\n",
       "    .dataframe tbody tr th:only-of-type {\n",
       "        vertical-align: middle;\n",
       "    }\n",
       "\n",
       "    .dataframe tbody tr th {\n",
       "        vertical-align: top;\n",
       "    }\n",
       "\n",
       "    .dataframe thead th {\n",
       "        text-align: right;\n",
       "    }\n",
       "</style>\n",
       "<table border=\"1\" class=\"dataframe\">\n",
       "  <thead>\n",
       "    <tr style=\"text-align: right;\">\n",
       "      <th></th>\n",
       "      <th>uid</th>\n",
       "      <th>title</th>\n",
       "      <th>img_url</th>\n",
       "      <th>link</th>\n",
       "      <th>tags</th>\n",
       "    </tr>\n",
       "  </thead>\n",
       "  <tbody>\n",
       "    <tr>\n",
       "      <th>0</th>\n",
       "      <td>28891</td>\n",
       "      <td>Haikyuu!! Second Season</td>\n",
       "      <td>https://cdn.myanimelist.net/images/anime/9/766...</td>\n",
       "      <td>https://myanimelist.net/anime/28891/Haikyuu_Se...</td>\n",
       "      <td>Following their participation at the Inter-Hig...</td>\n",
       "    </tr>\n",
       "    <tr>\n",
       "      <th>1</th>\n",
       "      <td>23273</td>\n",
       "      <td>Shigatsu wa Kimi no Uso</td>\n",
       "      <td>https://cdn.myanimelist.net/images/anime/3/671...</td>\n",
       "      <td>https://myanimelist.net/anime/23273/Shigatsu_w...</td>\n",
       "      <td>Music accompanies the path of the human metron...</td>\n",
       "    </tr>\n",
       "    <tr>\n",
       "      <th>2</th>\n",
       "      <td>34599</td>\n",
       "      <td>Made in Abyss</td>\n",
       "      <td>https://cdn.myanimelist.net/images/anime/6/867...</td>\n",
       "      <td>https://myanimelist.net/anime/34599/Made_in_Abyss</td>\n",
       "      <td>The Abyss—a gaping chasm stretching down into ...</td>\n",
       "    </tr>\n",
       "    <tr>\n",
       "      <th>3</th>\n",
       "      <td>5114</td>\n",
       "      <td>Fullmetal Alchemist: Brotherhood</td>\n",
       "      <td>https://cdn.myanimelist.net/images/anime/1223/...</td>\n",
       "      <td>https://myanimelist.net/anime/5114/Fullmetal_A...</td>\n",
       "      <td>\"In order for something to be obtained, someth...</td>\n",
       "    </tr>\n",
       "    <tr>\n",
       "      <th>4</th>\n",
       "      <td>31758</td>\n",
       "      <td>Kizumonogatari III: Reiketsu-hen</td>\n",
       "      <td>https://cdn.myanimelist.net/images/anime/3/815...</td>\n",
       "      <td>https://myanimelist.net/anime/31758/Kizumonoga...</td>\n",
       "      <td>After helping revive the legendary vampire Kis...</td>\n",
       "    </tr>\n",
       "    <tr>\n",
       "      <th>...</th>\n",
       "      <td>...</td>\n",
       "      <td>...</td>\n",
       "      <td>...</td>\n",
       "      <td>...</td>\n",
       "      <td>...</td>\n",
       "    </tr>\n",
       "    <tr>\n",
       "      <th>19002</th>\n",
       "      <td>10075</td>\n",
       "      <td>Naruto x UT</td>\n",
       "      <td>https://cdn.myanimelist.net/images/anime/3/304...</td>\n",
       "      <td>https://myanimelist.net/anime/10075/Naruto_x_UT</td>\n",
       "      <td>All-new animation offered throughout UNIQLO cl...</td>\n",
       "    </tr>\n",
       "    <tr>\n",
       "      <th>19003</th>\n",
       "      <td>35828</td>\n",
       "      <td>Miira no Kaikata</td>\n",
       "      <td>https://cdn.myanimelist.net/images/anime/1486/...</td>\n",
       "      <td>https://myanimelist.net/anime/35828/Miira_no_K...</td>\n",
       "      <td>High school student Sora Kashiwagi is accustom...</td>\n",
       "    </tr>\n",
       "    <tr>\n",
       "      <th>19004</th>\n",
       "      <td>10378</td>\n",
       "      <td>Shinryaku!? Ika Musume</td>\n",
       "      <td>https://cdn.myanimelist.net/images/anime/6/301...</td>\n",
       "      <td>https://myanimelist.net/anime/10378/Shinryaku_...</td>\n",
       "      <td>After regaining her squid-like abilities, Ika ...</td>\n",
       "    </tr>\n",
       "    <tr>\n",
       "      <th>19005</th>\n",
       "      <td>33082</td>\n",
       "      <td>Kingsglaive: Final Fantasy XV</td>\n",
       "      <td>https://cdn.myanimelist.net/images/anime/12/79...</td>\n",
       "      <td>https://myanimelist.net/anime/33082/Kingsglaiv...</td>\n",
       "      <td>For years, the Niflheim Empire and the kingdom...</td>\n",
       "    </tr>\n",
       "    <tr>\n",
       "      <th>19006</th>\n",
       "      <td>16934</td>\n",
       "      <td>Chuunibyou demo Koi ga Shitai!: Kirameki no......</td>\n",
       "      <td>https://cdn.myanimelist.net/images/anime/7/455...</td>\n",
       "      <td>https://myanimelist.net/anime/16934/Chuunibyou...</td>\n",
       "      <td>Although Yuuta Togashi and Rikka Takanashi hav...</td>\n",
       "    </tr>\n",
       "  </tbody>\n",
       "</table>\n",
       "<p>16368 rows × 5 columns</p>\n",
       "</div>"
      ],
      "text/plain": [
       "         uid                                              title  \\\n",
       "0      28891                            Haikyuu!! Second Season   \n",
       "1      23273                            Shigatsu wa Kimi no Uso   \n",
       "2      34599                                      Made in Abyss   \n",
       "3       5114                   Fullmetal Alchemist: Brotherhood   \n",
       "4      31758                   Kizumonogatari III: Reiketsu-hen   \n",
       "...      ...                                                ...   \n",
       "19002  10075                                        Naruto x UT   \n",
       "19003  35828                                   Miira no Kaikata   \n",
       "19004  10378                             Shinryaku!? Ika Musume   \n",
       "19005  33082                      Kingsglaive: Final Fantasy XV   \n",
       "19006  16934  Chuunibyou demo Koi ga Shitai!: Kirameki no......   \n",
       "\n",
       "                                                 img_url  \\\n",
       "0      https://cdn.myanimelist.net/images/anime/9/766...   \n",
       "1      https://cdn.myanimelist.net/images/anime/3/671...   \n",
       "2      https://cdn.myanimelist.net/images/anime/6/867...   \n",
       "3      https://cdn.myanimelist.net/images/anime/1223/...   \n",
       "4      https://cdn.myanimelist.net/images/anime/3/815...   \n",
       "...                                                  ...   \n",
       "19002  https://cdn.myanimelist.net/images/anime/3/304...   \n",
       "19003  https://cdn.myanimelist.net/images/anime/1486/...   \n",
       "19004  https://cdn.myanimelist.net/images/anime/6/301...   \n",
       "19005  https://cdn.myanimelist.net/images/anime/12/79...   \n",
       "19006  https://cdn.myanimelist.net/images/anime/7/455...   \n",
       "\n",
       "                                                    link  \\\n",
       "0      https://myanimelist.net/anime/28891/Haikyuu_Se...   \n",
       "1      https://myanimelist.net/anime/23273/Shigatsu_w...   \n",
       "2      https://myanimelist.net/anime/34599/Made_in_Abyss   \n",
       "3      https://myanimelist.net/anime/5114/Fullmetal_A...   \n",
       "4      https://myanimelist.net/anime/31758/Kizumonoga...   \n",
       "...                                                  ...   \n",
       "19002    https://myanimelist.net/anime/10075/Naruto_x_UT   \n",
       "19003  https://myanimelist.net/anime/35828/Miira_no_K...   \n",
       "19004  https://myanimelist.net/anime/10378/Shinryaku_...   \n",
       "19005  https://myanimelist.net/anime/33082/Kingsglaiv...   \n",
       "19006  https://myanimelist.net/anime/16934/Chuunibyou...   \n",
       "\n",
       "                                                    tags  \n",
       "0      Following their participation at the Inter-Hig...  \n",
       "1      Music accompanies the path of the human metron...  \n",
       "2      The Abyss—a gaping chasm stretching down into ...  \n",
       "3      \"In order for something to be obtained, someth...  \n",
       "4      After helping revive the legendary vampire Kis...  \n",
       "...                                                  ...  \n",
       "19002  All-new animation offered throughout UNIQLO cl...  \n",
       "19003  High school student Sora Kashiwagi is accustom...  \n",
       "19004  After regaining her squid-like abilities, Ika ...  \n",
       "19005  For years, the Niflheim Empire and the kingdom...  \n",
       "19006  Although Yuuta Togashi and Rikka Takanashi hav...  \n",
       "\n",
       "[16368 rows x 5 columns]"
      ]
     },
     "execution_count": 44,
     "metadata": {},
     "output_type": "execute_result"
    }
   ],
   "source": [
    "pickle.load(open('animes_list.pkl', 'rb'))"
   ]
  },
  {
   "cell_type": "code",
   "execution_count": null,
   "id": "ae20e180",
   "metadata": {},
   "outputs": [],
   "source": []
  }
 ],
 "metadata": {
  "kernelspec": {
   "display_name": "Python 3 (ipykernel)",
   "language": "python",
   "name": "python3"
  },
  "language_info": {
   "codemirror_mode": {
    "name": "ipython",
    "version": 3
   },
   "file_extension": ".py",
   "mimetype": "text/x-python",
   "name": "python",
   "nbconvert_exporter": "python",
   "pygments_lexer": "ipython3",
   "version": "3.9.13"
  }
 },
 "nbformat": 4,
 "nbformat_minor": 5
}
